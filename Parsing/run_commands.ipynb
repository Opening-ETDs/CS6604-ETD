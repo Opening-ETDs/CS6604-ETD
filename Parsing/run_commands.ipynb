{
 "cells": [
  {
   "cell_type": "code",
   "execution_count": 11,
   "metadata": {},
   "outputs": [
    {
     "name": "stdout",
     "output_type": "stream",
     "text": [
      "/Users/bipashabanerjee/Documents/CS/sem3/publish/utils\n",
      "modern-language-association\n",
      "13:11:43.757 [main] INFO App - Scanning for *.bib in /Users/bipashabanerjee/Documents/CS/sem3/publish/bibData/journal\n",
      "styleData/journals/modern-language-association/output.txt\n"
     ]
    }
   ],
   "source": [
    "#Run the shell script \n",
    "#Input: BibTeX files\n",
    "#Utils: The JAR file that converts Bib files to the \n",
    "#Output: Files in specific styles format \n",
    "\n",
    "!./batch_run.sh\n",
    "\n"
   ]
  },
  {
   "cell_type": "code",
   "execution_count": 21,
   "metadata": {},
   "outputs": [
    {
     "name": "stdout",
     "output_type": "stream",
     "text": [
      "8105\n"
     ]
    }
   ],
   "source": [
    "fname = \"/Users/bipashabanerjee/Documents/CS/sem3/project/styleData/splitData/journal_all_test.txt\"\n",
    "num_lines=0\n",
    "with open(fname, 'r') as f:\n",
    "    for line in f:\n",
    "        num_lines += 1\n",
    "        \n",
    "print(num_lines)\n",
    "\n"
   ]
  },
  {
   "cell_type": "code",
   "execution_count": null,
   "metadata": {},
   "outputs": [],
   "source": []
  }
 ],
 "metadata": {
  "kernelspec": {
   "display_name": "Python 3",
   "language": "python",
   "name": "python3"
  },
  "language_info": {
   "codemirror_mode": {
    "name": "ipython",
    "version": 3
   },
   "file_extension": ".py",
   "mimetype": "text/x-python",
   "name": "python",
   "nbconvert_exporter": "python",
   "pygments_lexer": "ipython3",
   "version": "3.7.3"
  }
 },
 "nbformat": 4,
 "nbformat_minor": 2
}
