{
 "cells": [
  {
   "cell_type": "markdown",
   "metadata": {},
   "source": [
    "# Collect BibTex for Conference Proceedings\n",
    "\n",
    "This script uses the [CrossRef REST API](https://github.com/CrossRef/rest-api-doc) to randomly retrieve DOIs for conference articles. For each DOI, it calls the API again to retrieve the individual item record, transformed into BibTex. "
   ]
  },
  {
   "cell_type": "code",
   "execution_count": 97,
   "metadata": {},
   "outputs": [],
   "source": [
    "import requests\n",
    "import urllib.request\n",
    "import ijson"
   ]
  },
  {
   "cell_type": "markdown",
   "metadata": {},
   "source": [
    "First, download 2000 random conference proceedings from the CrossRef API and retrieve the DOI for each entry. Retrieve these 200 at a time using the `rows` and `offset` parameters."
   ]
  },
  {
   "cell_type": "code",
   "execution_count": 102,
   "metadata": {},
   "outputs": [
    {
     "name": "stdout",
     "output_type": "stream",
     "text": [
      "2000\n"
     ]
    }
   ],
   "source": [
    "headers = {\"User-Agent\": \"Virginia Tech DLRL (waingram@vt.edu)\"}\n",
    "\n",
    "rows = 200\n",
    "offset = 0\n",
    "dois = []\n",
    "while rows + offset <= 2000:\n",
    "    url = f'https://api.crossref.org/works?filter=type:proceedings-article&rows={rows}&offset={offset}'\n",
    "    r = requests.get(url, stream=True, headers=headers)\n",
    "    f = urllib.request.urlopen(url)\n",
    "    objects = ijson.items(f, 'message.items.item')\n",
    "    dois += [i[\"DOI\"] for i in list(objects)]\n",
    "    offset += rows\n",
    "print(len(dois))"
   ]
  },
  {
   "cell_type": "markdown",
   "metadata": {},
   "source": [
    "For each DOI, call the CrossRef API again to get the BibTex. Save to a file. "
   ]
  },
  {
   "cell_type": "code",
   "execution_count": 104,
   "metadata": {},
   "outputs": [],
   "source": [
    "file_name = 'data/crossref_random_proceedings.bibtex'\n",
    "with open(file_name, 'w') as fd:\n",
    "    for doi in dois:\n",
    "        url = f'http://api.crossref.org/works/{doi}/transform/application/x-bibtex'\n",
    "        r = requests.get(url, headers=headers)\n",
    "        if r.ok:\n",
    "            fd.write(r.content.decode('utf-8') + '\\n')"
   ]
  },
  {
   "cell_type": "code",
   "execution_count": null,
   "metadata": {},
   "outputs": [],
   "source": []
  }
 ],
 "metadata": {
  "file_extension": ".py",
  "kernelspec": {
   "display_name": "Python 3",
   "language": "python",
   "name": "python3"
  },
  "language_info": {
   "codemirror_mode": {
    "name": "ipython",
    "version": 3
   },
   "file_extension": ".py",
   "mimetype": "text/x-python",
   "name": "python",
   "nbconvert_exporter": "python",
   "pygments_lexer": "ipython3",
   "version": "3.7.1"
  },
  "mimetype": "text/x-python",
  "name": "python",
  "npconvert_exporter": "python",
  "pygments_lexer": "ipython3",
  "version": 3
 },
 "nbformat": 4,
 "nbformat_minor": 2
}
