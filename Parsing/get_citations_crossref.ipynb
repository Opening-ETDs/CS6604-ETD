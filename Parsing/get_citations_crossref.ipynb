{
 "cells": [
  {
   "cell_type": "markdown",
   "metadata": {},
   "source": [
    "# Collect BibTex from CrossRef\n",
    "\n",
    "This script uses the [CrossRef REST API](https://github.com/CrossRef/rest-api-doc) to randomly retrieve DOIs for scholarly works. For each DOI, it calls the API again to retrieve the individual item record, transformed into BibTex.\n"
   ]
  },
  {
   "cell_type": "code",
   "execution_count": null,
   "metadata": {},
   "outputs": [],
   "source": [
    "import requests\n",
    "import urllib.request\n",
    "import ijson\n",
    "import time\n",
    "\n",
    "num_results = 5000\n",
    "\n",
    "x_rate_limit_interval = 1\n",
    "x_rate_limit_limit = 50\n",
    "headers = {\"User-Agent\": \"Virginia Tech DLRL (mailto:waingram@vt.edu)\"}"
   ]
  },
  {
   "cell_type": "markdown",
   "metadata": {},
   "source": [
    "First, download 5000 random conference proceedings from the CrossRef API and retrieve the DOI for each entry. Retrieve these 1000 at a time using the `rows` and `offset` parameters. \n",
    "\n",
    "Do this for each type in ```[\"book-section\", \"monograph\", \"report\", \"peer-review\", \"book-track\", \"journal-article\", \"book-part\", \"other\", \"book\", \"journal-volume\", \"book-set\", \"reference-entry\", \"proceedings-article\", \"journal\", \"component\", \"book-chapter\", \"proceedings-series\", \"report-series\", \"proceedings\", \"standard\", \"reference-book\", \"posted-content\", \"journal-issue\", \"dissertation\", \"dataset\", \"book-series\", \"edited-book\", \"standard-series\"]```."
   ]
  },
  {
   "cell_type": "code",
   "execution_count": null,
   "metadata": {},
   "outputs": [],
   "source": [
    "ref_type = \"dissertation\"\n",
    "\n",
    "dois_file_name = f\"data/crossref-{ref_type}.dois\"\n",
    "\n",
    "rows = 1000\n",
    "offset = 0\n",
    "dois = []\n",
    "while rows + offset <= num_results:\n",
    "    url = f\"https://api.crossref.org/works?filter=type:{ref_type}&rows={rows}&offset={offset}\"\n",
    "\n",
    "    req = urllib.request.Request(url, headers=headers)\n",
    "    res = urllib.request.urlopen(req)\n",
    "\n",
    "    # observe rate limits\n",
    "    x_rate_limit_limit = int(res.headers.get('X-Rate-Limit-Limit'))\n",
    "    x_rate_limit_interval = int(res.headers.get('X-Rate-Limit-Interval').rstrip('s'))\n",
    "    delay = float(x_rate_limit_interval) / x_rate_limit_limit\n",
    "    time.sleep(delay)\n",
    "\n",
    "    objects = ijson.items(res, \"message.items.item\")\n",
    "    dois += [i[\"DOI\"] for i in list(objects)]\n",
    "    offset += rows\n",
    "\n",
    "with open(dois_file_name, 'w') as d: \n",
    "    for doi in dois:\n",
    "        d.write(doi + '\\n')\n"
   ]
  },
  {
   "cell_type": "markdown",
   "metadata": {},
   "source": [
    "For each DOI, call the CrossRef API again to get the BibTex. Save to a file."
   ]
  },
  {
   "cell_type": "code",
   "execution_count": null,
   "metadata": {},
   "outputs": [],
   "source": [
    "bibtex_file_name = f\"data/crossref-{ref_type}.bibtex\"\n",
    "\n",
    "with open(dois_file_name, 'r') as d:\n",
    "    with open(bibtex_file_name, 'w') as f:\n",
    "        dois = [line.rstrip() for line in d]\n",
    "        for doi in dois:\n",
    "            url = f\"http://api.crossref.org/works/{doi}/transform/application/x-bibtex\"\n",
    "\n",
    "            r = requests.get(url, headers=headers)\n",
    "\n",
    "            # observe rate limits\n",
    "            x_rate_limit_limit = int(r.headers.get('X-Rate-Limit-Limit'))\n",
    "            x_rate_limit_interval = int(r.headers.get('X-Rate-Limit-Interval').rstrip('s'))\n",
    "            delay = float(x_rate_limit_interval) / x_rate_limit_limit\n",
    "            time.sleep(delay)\n",
    "\n",
    "            if r.ok:\n",
    "                f.write(r.text + \"\\n\")\n"
   ]
  }
 ],
 "metadata": {
  "file_extension": ".py",
  "kernelspec": {
   "display_name": "Python 3",
   "language": "python",
   "name": "python3"
  },
  "language_info": {
   "codemirror_mode": {
    "name": "ipython",
    "version": 3
   },
   "file_extension": ".py",
   "mimetype": "text/x-python",
   "name": "python",
   "nbconvert_exporter": "python",
   "pygments_lexer": "ipython3",
   "version": "3.7.1"
  },
  "mimetype": "text/x-python",
  "name": "python",
  "npconvert_exporter": "python",
  "pygments_lexer": "ipython3",
  "version": 3
 },
 "nbformat": 4,
 "nbformat_minor": 2
}
